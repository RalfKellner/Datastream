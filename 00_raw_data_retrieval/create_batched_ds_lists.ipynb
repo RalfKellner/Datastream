{
 "cells": [
  {
   "cell_type": "code",
   "execution_count": 30,
   "id": "e5fd686a",
   "metadata": {},
   "outputs": [],
   "source": [
    "import pandas as pd\n",
    "\n",
    "ds = pd.read_csv(\"D:/Datastream/EU/DS_List_Long.csv\")\n",
    "ds_list = ds.DS.tolist()\n",
    "\n",
    "batch_size = 800\n",
    "\n",
    "ds_batched = pd.DataFrame([ds_list[i:i+batch_size] for i in range(0, len(ds_list), batch_size)]).transpose()\n",
    "ds_batched.columns = [f\"L#{i:03d}\" for i in range(ds_batched.shape[1])]\n",
    "ds_batched.to_excel(\"D:/Datastream/EU/DS_DSCD.xlsx\", index = False)"
   ]
  }
 ],
 "metadata": {
  "kernelspec": {
   "display_name": ".venv",
   "language": "python",
   "name": "python3"
  },
  "language_info": {
   "codemirror_mode": {
    "name": "ipython",
    "version": 3
   },
   "file_extension": ".py",
   "mimetype": "text/x-python",
   "name": "python",
   "nbconvert_exporter": "python",
   "pygments_lexer": "ipython3",
   "version": "3.13.3"
  }
 },
 "nbformat": 4,
 "nbformat_minor": 5
}
